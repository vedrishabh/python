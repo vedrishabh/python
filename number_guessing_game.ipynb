{
  "nbformat": 4,
  "nbformat_minor": 0,
  "metadata": {
    "colab": {
      "name": "number guessing game",
      "provenance": []
    },
    "kernelspec": {
      "name": "python3",
      "display_name": "Python 3"
    }
  },
  "cells": [
    {
      "cell_type": "code",
      "metadata": {
        "id": "Jl61ogwGcrtg",
        "colab_type": "code",
        "colab": {
          "base_uri": "https://localhost:8080/",
          "height": 235
        },
        "outputId": "bc83acd2-3eb7-4885-a862-ab81ede976bc"
      },
      "source": [
        "import random\n",
        "winning_number=random.randint(1,100)\n",
        "guess=1\n",
        "game_over=False\n",
        "number=int(input(\"enter the no. between 1 to 100\"))\n",
        "while not game_over:\n",
        "  if winning_number == number:\n",
        "    print(f\"you win attempt{guess} time\")\n",
        "    game_over=True\n",
        "  else:\n",
        "    if number < winning_number:\n",
        "      print(\"too low\")\n",
        "    else:\n",
        "      print(\"too high\")\n",
        "\n",
        "    guess+=1\n",
        "    number=int(input(\"guess again\"))\n",
        "      \n"
      ],
      "execution_count": 1,
      "outputs": [
        {
          "output_type": "stream",
          "text": [
            "enter the no. between 1 to 10044\n",
            "too high\n",
            "guess again30\n",
            "too high\n",
            "guess again15\n",
            "too high\n",
            "guess again5\n",
            "too low\n",
            "guess again8\n",
            "too low\n",
            "guess again10\n",
            "you win attempt6 time\n"
          ],
          "name": "stdout"
        }
      ]
    },
    {
      "cell_type": "code",
      "metadata": {
        "id": "WQXhnj8Dpzhi",
        "colab_type": "code",
        "colab": {}
      },
      "source": [
        ""
      ],
      "execution_count": 0,
      "outputs": []
    }
  ]
}